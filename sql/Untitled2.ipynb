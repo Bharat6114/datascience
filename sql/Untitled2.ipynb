{
 "cells": [
  {
   "cell_type": "code",
   "execution_count": 15,
   "metadata": {},
   "outputs": [],
   "source": [
    "%reload_ext sql"
   ]
  },
  {
   "cell_type": "code",
   "execution_count": 21,
   "metadata": {},
   "outputs": [],
   "source": [
    "%sql ibm_db_sa://wsw52499:zhtsxg8%2Bk0v9l6jk@dashdb-txn-sbox-yp-dal09-11.services.dal.bluemix.net:50000/BLUDB"
   ]
  },
  {
   "cell_type": "code",
   "execution_count": 22,
   "metadata": {},
   "outputs": [
    {
     "name": "stdout",
     "output_type": "stream",
     "text": [
      " * ibm_db_sa://wsw52499:***@dashdb-txn-sbox-yp-dal09-11.services.dal.bluemix.net:50000/BLUDB\n",
      "Done.\n"
     ]
    },
    {
     "data": {
      "text/html": [
       "<table>\n",
       "    <tr>\n",
       "        <th>first_name</th>\n",
       "        <th>last_name</th>\n",
       "        <th>email</th>\n",
       "        <th>adress</th>\n",
       "    </tr>\n",
       "    <tr>\n",
       "        <td>Bhaskar</td>\n",
       "        <td>Bhandari</td>\n",
       "        <td>bharatbhandari23@gmail.com</td>\n",
       "        <td>ktm</td>\n",
       "    </tr>\n",
       "    <tr>\n",
       "        <td>kd</td>\n",
       "        <td>Bhandari</td>\n",
       "        <td>bharatbhandari5123@gmail.com</td>\n",
       "        <td>ktm</td>\n",
       "    </tr>\n",
       "    <tr>\n",
       "        <td>Bhawana</td>\n",
       "        <td>Bhandari</td>\n",
       "        <td>bharatbhandari5123@gmail.com</td>\n",
       "        <td>ktm</td>\n",
       "    </tr>\n",
       "</table>"
      ],
      "text/plain": [
       "[('Bhaskar', 'Bhandari', 'bharatbhandari23@gmail.com', 'ktm'),\n",
       " ('kd', 'Bhandari', 'bharatbhandari5123@gmail.com', 'ktm'),\n",
       " ('Bhawana', 'Bhandari', 'bharatbhandari5123@gmail.com', 'ktm')]"
      ]
     },
     "execution_count": 22,
     "metadata": {},
     "output_type": "execute_result"
    }
   ],
   "source": [
    "%sql select* from student"
   ]
  },
  {
   "cell_type": "code",
   "execution_count": 33,
   "metadata": {},
   "outputs": [
    {
     "name": "stdout",
     "output_type": "stream",
     "text": [
      " * ibm_db_sa://wsw52499:***@dashdb-txn-sbox-yp-dal09-11.services.dal.bluemix.net:50000/BLUDB\n",
      "(ibm_db_dbi.ProgrammingError) ibm_db_dbi::ProgrammingError: Exception('Statement Execute Failed: [IBM][CLI Driver][DB2/LINUXX8664] SQL0204N  \"WSW52499.STUDENT\" is an undefined name.  SQLSTATE=42704\\r SQLCODE=-204')\n",
      "[SQL: drop table Student]\n",
      "(Background on this error at: http://sqlalche.me/e/f405)\n"
     ]
    }
   ],
   "source": [
    "%sql drop table Student"
   ]
  },
  {
   "cell_type": "code",
   "execution_count": 35,
   "metadata": {},
   "outputs": [
    {
     "name": "stdout",
     "output_type": "stream",
     "text": [
      " * ibm_db_sa://wsw52499:***@dashdb-txn-sbox-yp-dal09-11.services.dal.bluemix.net:50000/BLUDB\n",
      "Done.\n"
     ]
    },
    {
     "data": {
      "text/plain": [
       "[]"
      ]
     },
     "execution_count": 35,
     "metadata": {},
     "output_type": "execute_result"
    }
   ],
   "source": [
    "%sql create table Student(SN VARCHAR(5)  ,first_name VARCHAR(20),middle_name VARCHAR(20),last_name VARCHAR(20),Symbol_number VARCHAR(20))"
   ]
  },
  {
   "cell_type": "code",
   "execution_count": 39,
   "metadata": {},
   "outputs": [
    {
     "name": "stdout",
     "output_type": "stream",
     "text": [
      " * ibm_db_sa://wsw52499:***@dashdb-txn-sbox-yp-dal09-11.services.dal.bluemix.net:50000/BLUDB\n",
      "6 rows affected.\n"
     ]
    },
    {
     "data": {
      "text/plain": [
       "[]"
      ]
     },
     "execution_count": 39,
     "metadata": {},
     "output_type": "execute_result"
    }
   ],
   "source": [
    "%sql insert into student(sn,first_name,middle_name,last_name,Symbol_number)values('1','bharat','bahadur','bhandari','70500044'),('2','bharat','bahadur','bhandari','70500044'),('3','bharat','bahadur','bhandari','70500044'),('4','bharat','bahadur','bhandari','70500044'),('5','bharat','bahadur','bhandari','70500044'),('6','bharat','bahadur','bhandari','70500044')"
   ]
  },
  {
   "cell_type": "code",
   "execution_count": 40,
   "metadata": {},
   "outputs": [
    {
     "name": "stdout",
     "output_type": "stream",
     "text": [
      " * ibm_db_sa://wsw52499:***@dashdb-txn-sbox-yp-dal09-11.services.dal.bluemix.net:50000/BLUDB\n",
      "Done.\n"
     ]
    },
    {
     "data": {
      "text/html": [
       "<table>\n",
       "    <tr>\n",
       "        <th>sn</th>\n",
       "        <th>first_name</th>\n",
       "        <th>middle_name</th>\n",
       "        <th>last_name</th>\n",
       "        <th>symbol_number</th>\n",
       "    </tr>\n",
       "    <tr>\n",
       "        <td>1</td>\n",
       "        <td>bharat</td>\n",
       "        <td>bahadur</td>\n",
       "        <td>bhandari</td>\n",
       "        <td>70500044</td>\n",
       "    </tr>\n",
       "    <tr>\n",
       "        <td>2</td>\n",
       "        <td>bharat</td>\n",
       "        <td>bahadur</td>\n",
       "        <td>bhandari</td>\n",
       "        <td>70500044</td>\n",
       "    </tr>\n",
       "    <tr>\n",
       "        <td>3</td>\n",
       "        <td>bharat</td>\n",
       "        <td>bahadur</td>\n",
       "        <td>bhandari</td>\n",
       "        <td>70500044</td>\n",
       "    </tr>\n",
       "    <tr>\n",
       "        <td>4</td>\n",
       "        <td>bharat</td>\n",
       "        <td>bahadur</td>\n",
       "        <td>bhandari</td>\n",
       "        <td>70500044</td>\n",
       "    </tr>\n",
       "    <tr>\n",
       "        <td>5</td>\n",
       "        <td>bharat</td>\n",
       "        <td>bahadur</td>\n",
       "        <td>bhandari</td>\n",
       "        <td>70500044</td>\n",
       "    </tr>\n",
       "    <tr>\n",
       "        <td>6</td>\n",
       "        <td>bharat</td>\n",
       "        <td>bahadur</td>\n",
       "        <td>bhandari</td>\n",
       "        <td>70500044</td>\n",
       "    </tr>\n",
       "</table>"
      ],
      "text/plain": [
       "[('1', 'bharat', 'bahadur', 'bhandari', '70500044'),\n",
       " ('2', 'bharat', 'bahadur', 'bhandari', '70500044'),\n",
       " ('3', 'bharat', 'bahadur', 'bhandari', '70500044'),\n",
       " ('4', 'bharat', 'bahadur', 'bhandari', '70500044'),\n",
       " ('5', 'bharat', 'bahadur', 'bhandari', '70500044'),\n",
       " ('6', 'bharat', 'bahadur', 'bhandari', '70500044')]"
      ]
     },
     "execution_count": 40,
     "metadata": {},
     "output_type": "execute_result"
    }
   ],
   "source": [
    "%sql select *from Student"
   ]
  },
  {
   "cell_type": "code",
   "execution_count": 53,
   "metadata": {},
   "outputs": [
    {
     "name": "stdout",
     "output_type": "stream",
     "text": [
      " * ibm_db_sa://wsw52499:***@dashdb-txn-sbox-yp-dal09-11.services.dal.bluemix.net:50000/BLUDB\n",
      "1 rows affected.\n"
     ]
    },
    {
     "data": {
      "text/plain": [
       "[]"
      ]
     },
     "execution_count": 53,
     "metadata": {},
     "output_type": "execute_result"
    }
   ],
   "source": [
    "%sql update Student set first_name='Gita' where SN = '2'"
   ]
  },
  {
   "cell_type": "code",
   "execution_count": 54,
   "metadata": {},
   "outputs": [
    {
     "name": "stdout",
     "output_type": "stream",
     "text": [
      " * ibm_db_sa://wsw52499:***@dashdb-txn-sbox-yp-dal09-11.services.dal.bluemix.net:50000/BLUDB\n",
      "Done.\n"
     ]
    },
    {
     "data": {
      "text/html": [
       "<table>\n",
       "    <tr>\n",
       "        <th>sn</th>\n",
       "        <th>first_name</th>\n",
       "        <th>middle_name</th>\n",
       "        <th>last_name</th>\n",
       "        <th>symbol_number</th>\n",
       "    </tr>\n",
       "    <tr>\n",
       "        <td>1</td>\n",
       "        <td>bharat</td>\n",
       "        <td>bahadur</td>\n",
       "        <td>bhandari</td>\n",
       "        <td>70500044</td>\n",
       "    </tr>\n",
       "    <tr>\n",
       "        <td>2</td>\n",
       "        <td>Gita</td>\n",
       "        <td>bahadur</td>\n",
       "        <td>bhandari</td>\n",
       "        <td>70500044</td>\n",
       "    </tr>\n",
       "    <tr>\n",
       "        <td>3</td>\n",
       "        <td>bharat</td>\n",
       "        <td>bahadur</td>\n",
       "        <td>bhandari</td>\n",
       "        <td>70500044</td>\n",
       "    </tr>\n",
       "    <tr>\n",
       "        <td>4</td>\n",
       "        <td>bharat</td>\n",
       "        <td>bahadur</td>\n",
       "        <td>bhandari</td>\n",
       "        <td>70500044</td>\n",
       "    </tr>\n",
       "    <tr>\n",
       "        <td>5</td>\n",
       "        <td>bharat</td>\n",
       "        <td>bahadur</td>\n",
       "        <td>bhandari</td>\n",
       "        <td>70500044</td>\n",
       "    </tr>\n",
       "    <tr>\n",
       "        <td>6</td>\n",
       "        <td>bharat</td>\n",
       "        <td>bahadur</td>\n",
       "        <td>bhandari</td>\n",
       "        <td>70500044</td>\n",
       "    </tr>\n",
       "</table>"
      ],
      "text/plain": [
       "[('1', 'bharat', 'bahadur', 'bhandari', '70500044'),\n",
       " ('2', 'Gita', 'bahadur', 'bhandari', '70500044'),\n",
       " ('3', 'bharat', 'bahadur', 'bhandari', '70500044'),\n",
       " ('4', 'bharat', 'bahadur', 'bhandari', '70500044'),\n",
       " ('5', 'bharat', 'bahadur', 'bhandari', '70500044'),\n",
       " ('6', 'bharat', 'bahadur', 'bhandari', '70500044')]"
      ]
     },
     "execution_count": 54,
     "metadata": {},
     "output_type": "execute_result"
    }
   ],
   "source": [
    "%sql select *from student "
   ]
  },
  {
   "cell_type": "code",
   "execution_count": 55,
   "metadata": {},
   "outputs": [
    {
     "name": "stdout",
     "output_type": "stream",
     "text": [
      " * ibm_db_sa://wsw52499:***@dashdb-txn-sbox-yp-dal09-11.services.dal.bluemix.net:50000/BLUDB\n",
      "Done.\n"
     ]
    },
    {
     "data": {
      "text/html": [
       "<table>\n",
       "    <tr>\n",
       "        <th>first_name</th>\n",
       "    </tr>\n",
       "    <tr>\n",
       "        <td>Gita</td>\n",
       "    </tr>\n",
       "    <tr>\n",
       "        <td>bharat</td>\n",
       "    </tr>\n",
       "</table>"
      ],
      "text/plain": [
       "[('Gita',), ('bharat',)]"
      ]
     },
     "execution_count": 55,
     "metadata": {},
     "output_type": "execute_result"
    }
   ],
   "source": [
    "%sql select DISTINCT(first_name) from student"
   ]
  },
  {
   "cell_type": "code",
   "execution_count": 58,
   "metadata": {},
   "outputs": [
    {
     "name": "stdout",
     "output_type": "stream",
     "text": [
      " * ibm_db_sa://wsw52499:***@dashdb-txn-sbox-yp-dal09-11.services.dal.bluemix.net:50000/BLUDB\n",
      "1 rows affected.\n"
     ]
    },
    {
     "data": {
      "text/plain": [
       "[]"
      ]
     },
     "execution_count": 58,
     "metadata": {},
     "output_type": "execute_result"
    }
   ],
   "source": [
    "%sql delete  from student where SN='6'"
   ]
  },
  {
   "cell_type": "code",
   "execution_count": 59,
   "metadata": {},
   "outputs": [
    {
     "name": "stdout",
     "output_type": "stream",
     "text": [
      " * ibm_db_sa://wsw52499:***@dashdb-txn-sbox-yp-dal09-11.services.dal.bluemix.net:50000/BLUDB\n",
      "Done.\n"
     ]
    },
    {
     "data": {
      "text/html": [
       "<table>\n",
       "    <tr>\n",
       "        <th>1</th>\n",
       "    </tr>\n",
       "    <tr>\n",
       "        <td>5</td>\n",
       "    </tr>\n",
       "</table>"
      ],
      "text/plain": [
       "[(Decimal('5'),)]"
      ]
     },
     "execution_count": 59,
     "metadata": {},
     "output_type": "execute_result"
    }
   ],
   "source": [
    "%sql select count(*)from student"
   ]
  },
  {
   "cell_type": "code",
   "execution_count": 60,
   "metadata": {},
   "outputs": [
    {
     "name": "stdout",
     "output_type": "stream",
     "text": [
      " * ibm_db_sa://wsw52499:***@dashdb-txn-sbox-yp-dal09-11.services.dal.bluemix.net:50000/BLUDB\n",
      "Done.\n"
     ]
    },
    {
     "data": {
      "text/html": [
       "<table>\n",
       "    <tr>\n",
       "        <th>sn</th>\n",
       "        <th>first_name</th>\n",
       "        <th>middle_name</th>\n",
       "        <th>last_name</th>\n",
       "        <th>symbol_number</th>\n",
       "    </tr>\n",
       "    <tr>\n",
       "        <td>1</td>\n",
       "        <td>bharat</td>\n",
       "        <td>bahadur</td>\n",
       "        <td>bhandari</td>\n",
       "        <td>70500044</td>\n",
       "    </tr>\n",
       "    <tr>\n",
       "        <td>2</td>\n",
       "        <td>Gita</td>\n",
       "        <td>bahadur</td>\n",
       "        <td>bhandari</td>\n",
       "        <td>70500044</td>\n",
       "    </tr>\n",
       "    <tr>\n",
       "        <td>3</td>\n",
       "        <td>bharat</td>\n",
       "        <td>bahadur</td>\n",
       "        <td>bhandari</td>\n",
       "        <td>70500044</td>\n",
       "    </tr>\n",
       "    <tr>\n",
       "        <td>4</td>\n",
       "        <td>bharat</td>\n",
       "        <td>bahadur</td>\n",
       "        <td>bhandari</td>\n",
       "        <td>70500044</td>\n",
       "    </tr>\n",
       "    <tr>\n",
       "        <td>5</td>\n",
       "        <td>bharat</td>\n",
       "        <td>bahadur</td>\n",
       "        <td>bhandari</td>\n",
       "        <td>70500044</td>\n",
       "    </tr>\n",
       "</table>"
      ],
      "text/plain": [
       "[('1', 'bharat', 'bahadur', 'bhandari', '70500044'),\n",
       " ('2', 'Gita', 'bahadur', 'bhandari', '70500044'),\n",
       " ('3', 'bharat', 'bahadur', 'bhandari', '70500044'),\n",
       " ('4', 'bharat', 'bahadur', 'bhandari', '70500044'),\n",
       " ('5', 'bharat', 'bahadur', 'bhandari', '70500044')]"
      ]
     },
     "execution_count": 60,
     "metadata": {},
     "output_type": "execute_result"
    }
   ],
   "source": [
    "%sql select *from student"
   ]
  },
  {
   "cell_type": "code",
   "execution_count": null,
   "metadata": {},
   "outputs": [],
   "source": []
  }
 ],
 "metadata": {
  "kernelspec": {
   "display_name": "Python 3",
   "language": "python",
   "name": "python3"
  },
  "language_info": {
   "codemirror_mode": {
    "name": "ipython",
    "version": 3
   },
   "file_extension": ".py",
   "mimetype": "text/x-python",
   "name": "python",
   "nbconvert_exporter": "python",
   "pygments_lexer": "ipython3",
   "version": "3.7.4"
  }
 },
 "nbformat": 4,
 "nbformat_minor": 2
}
